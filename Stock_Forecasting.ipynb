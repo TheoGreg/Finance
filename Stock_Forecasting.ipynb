{
 "cells": [
  {
   "cell_type": "markdown",
   "metadata": {},
   "source": [
    "# Stock-Forecasting"
   ]
  },
  {
   "cell_type": "markdown",
   "metadata": {},
   "source": [
    "Stock market can be seen as a sequence of values (each day could be a time step), and thus you can predict the closing value of the next day, knowing the past."
   ]
  },
  {
   "cell_type": "markdown",
   "metadata": {},
   "source": [
    "## Data exploration"
   ]
  },
  {
   "cell_type": "markdown",
   "metadata": {},
   "source": [
    "First, we load the dataset `all_stocks_5yr.csv`, which contains all the stock market values over 5 years for many companies."
   ]
  },
  {
   "cell_type": "code",
   "execution_count": 1,
   "metadata": {},
   "outputs": [],
   "source": [
    "# TODO: Load the dataset and explore it\n",
    "import pandas as pd\n",
    "import seaborn as sns\n",
    "import sklearn as sk\n",
    "import datetime as dt\n",
    "import numpy as np\n",
    "import matplotlib.pyplot as plt\n",
    "\n",
    "# To ignore annoying warning\n",
    "import warnings\n",
    "def ignore_warn(*args, **kwargs):\n",
    "    pass\n",
    "warnings.warn = ignore_warn\n",
    "warnings.filterwarnings(\"ignore\", category=DeprecationWarning)"
   ]
  },
  {
   "cell_type": "code",
   "execution_count": 2,
   "metadata": {},
   "outputs": [
    {
     "name": "stdout",
     "output_type": "stream",
     "text": [
      "<class 'pandas.core.frame.DataFrame'>\n",
      "RangeIndex: 619040 entries, 0 to 619039\n",
      "Data columns (total 7 columns):\n",
      " #   Column  Non-Null Count   Dtype  \n",
      "---  ------  --------------   -----  \n",
      " 0   date    619040 non-null  object \n",
      " 1   open    619029 non-null  float64\n",
      " 2   high    619032 non-null  float64\n",
      " 3   low     619032 non-null  float64\n",
      " 4   close   619040 non-null  float64\n",
      " 5   volume  619040 non-null  int64  \n",
      " 6   Name    619040 non-null  object \n",
      "dtypes: float64(4), int64(1), object(2)\n",
      "memory usage: 33.1+ MB\n"
     ]
    }
   ],
   "source": [
    "#Loading dataset and exploring\n",
    "stocks_df = pd.read_csv('all_stocks_5yr.csv')\n",
    "stocks_df.info()"
   ]
  },
  {
   "cell_type": "code",
   "execution_count": 3,
   "metadata": {},
   "outputs": [
    {
     "data": {
      "text/html": [
       "<div>\n",
       "<style scoped>\n",
       "    .dataframe tbody tr th:only-of-type {\n",
       "        vertical-align: middle;\n",
       "    }\n",
       "\n",
       "    .dataframe tbody tr th {\n",
       "        vertical-align: top;\n",
       "    }\n",
       "\n",
       "    .dataframe thead th {\n",
       "        text-align: right;\n",
       "    }\n",
       "</style>\n",
       "<table border=\"1\" class=\"dataframe\">\n",
       "  <thead>\n",
       "    <tr style=\"text-align: right;\">\n",
       "      <th></th>\n",
       "      <th>date</th>\n",
       "      <th>open</th>\n",
       "      <th>high</th>\n",
       "      <th>low</th>\n",
       "      <th>close</th>\n",
       "      <th>volume</th>\n",
       "      <th>Name</th>\n",
       "    </tr>\n",
       "  </thead>\n",
       "  <tbody>\n",
       "    <tr>\n",
       "      <th>0</th>\n",
       "      <td>2013-02-08</td>\n",
       "      <td>15.07</td>\n",
       "      <td>15.12</td>\n",
       "      <td>14.63</td>\n",
       "      <td>14.75</td>\n",
       "      <td>8407500</td>\n",
       "      <td>AAL</td>\n",
       "    </tr>\n",
       "    <tr>\n",
       "      <th>1</th>\n",
       "      <td>2013-02-11</td>\n",
       "      <td>14.89</td>\n",
       "      <td>15.01</td>\n",
       "      <td>14.26</td>\n",
       "      <td>14.46</td>\n",
       "      <td>8882000</td>\n",
       "      <td>AAL</td>\n",
       "    </tr>\n",
       "    <tr>\n",
       "      <th>2</th>\n",
       "      <td>2013-02-12</td>\n",
       "      <td>14.45</td>\n",
       "      <td>14.51</td>\n",
       "      <td>14.10</td>\n",
       "      <td>14.27</td>\n",
       "      <td>8126000</td>\n",
       "      <td>AAL</td>\n",
       "    </tr>\n",
       "    <tr>\n",
       "      <th>3</th>\n",
       "      <td>2013-02-13</td>\n",
       "      <td>14.30</td>\n",
       "      <td>14.94</td>\n",
       "      <td>14.25</td>\n",
       "      <td>14.66</td>\n",
       "      <td>10259500</td>\n",
       "      <td>AAL</td>\n",
       "    </tr>\n",
       "    <tr>\n",
       "      <th>4</th>\n",
       "      <td>2013-02-14</td>\n",
       "      <td>14.94</td>\n",
       "      <td>14.96</td>\n",
       "      <td>13.16</td>\n",
       "      <td>13.99</td>\n",
       "      <td>31879900</td>\n",
       "      <td>AAL</td>\n",
       "    </tr>\n",
       "  </tbody>\n",
       "</table>\n",
       "</div>"
      ],
      "text/plain": [
       "        date   open   high    low  close    volume Name\n",
       "0 2013-02-08  15.07  15.12  14.63  14.75   8407500  AAL\n",
       "1 2013-02-11  14.89  15.01  14.26  14.46   8882000  AAL\n",
       "2 2013-02-12  14.45  14.51  14.10  14.27   8126000  AAL\n",
       "3 2013-02-13  14.30  14.94  14.25  14.66  10259500  AAL\n",
       "4 2013-02-14  14.94  14.96  13.16  13.99  31879900  AAL"
      ]
     },
     "execution_count": 3,
     "metadata": {},
     "output_type": "execute_result"
    }
   ],
   "source": [
    "stocks_df['date']=pd.to_datetime(stocks_df['date'])\n",
    "stocks_df.head(5)"
   ]
  },
  {
   "cell_type": "code",
   "execution_count": 4,
   "metadata": {},
   "outputs": [
    {
     "data": {
      "image/png": "[encoded data removed]",
      "text/plain": [
       "<Figure size 432x288 with 1 Axes>"
      ]
     },
     "metadata": {
      "needs_background": "light"
     },
     "output_type": "display_data"
    }
   ],
   "source": [
    "# Plot the stock market evolution of a Apple\n",
    "Apple_df = stocks_df[stocks_df['Name'] =='AAPL']\n",
    "\n",
    "plt.plot(Apple_df['date'],Apple_df['close'])\n",
    "plt.title(\"Apple stock evolution\")\n",
    "plt.show()"
   ]
  },
  {
   "cell_type": "code",
   "execution_count": 5,
   "metadata": {},
   "outputs": [],
   "source": [
    "### Select companies with enough data to create a sequential model\n",
    "\n",
    "companies_to_analyse = []\n",
    "companies_df = {}\n",
    "\n",
    "for name in stocks_df['Name'].unique():\n",
    "    company_df = stocks_df[stocks_df['Name'] == name]\n",
    "    if len(company_df) > 1000 :\n",
    "        companies_to_analyse.append(name)\n",
    "        companies_df[name] = company_df"
   ]
  },
  {
   "cell_type": "markdown",
   "metadata": {},
   "source": [
    "> NB: for those who want a more accurate representation of the stock market, a really common visualization is the candlesticks. One can plot them using the matplotlib finance library https://github.com/matplotlib/mplfinance"
   ]
  },
  {
   "cell_type": "markdown",
   "metadata": {},
   "source": [
    "## Data preparation"
   ]
  },
  {
   "cell_type": "markdown",
   "metadata": {},
   "source": [
    "We prepare data with a lookback of 30 days in order to predict close value based on `[open, high, low, close, volume]` of the past 30 days. We also rescale the data."
   ]
  },
  {
   "cell_type": "code",
   "execution_count": 6,
   "metadata": {},
   "outputs": [],
   "source": [
    "from sklearn.preprocessing import StandardScaler\n",
    "\n",
    "def processData(data, past):\n",
    "    X,Y = [],[]\n",
    "    for i in range(len(data)-past):\n",
    "        X.append(data[i:i+past, 0:5])\n",
    "        Y.append(data[i+past, 3])\n",
    "\n",
    "    return np.array(X),np.array(Y)\n",
    "\n",
    "columns_to_shift = ['open', 'high', 'low', 'close', 'volume']\n",
    "lookback = 30 #here in days\n",
    "\n",
    "companies_scaled_data = {}\n",
    "companies_processed_data = {}\n",
    "companies_scaler = {}\n",
    "companies_dates = {}\n",
    "\n",
    "for name in companies_to_analyse :\n",
    "    companies_processed_data[name] = {}\n",
    "    \n",
    "    data_company = companies_df[name][columns_to_shift]\n",
    "    \n",
    "    companies_dates[name] = companies_df[name]['date'].to_numpy()\n",
    "    \n",
    "    scaler = StandardScaler()\n",
    "    data_scaled_company = scaler.fit_transform(data_company)\n",
    "    companies_scaled_data[name] = data_scaled_company\n",
    "    companies_scaler[name] = scaler\n",
    "    \n",
    "    X, y = processData(data_scaled_company, lookback)\n",
    "    \n",
    "    companies_processed_data[name]['X'] = X\n",
    "    companies_processed_data[name]['y'] = y"
   ]
  },
  {
   "cell_type": "markdown",
   "metadata": {},
   "source": [
    "# Train-Test splitting"
   ]
  },
  {
   "cell_type": "code",
   "execution_count": 7,
   "metadata": {},
   "outputs": [],
   "source": [
    "from sklearn.model_selection import train_test_split\n",
    "\n",
    "companies_train_test_data = {}\n",
    "\n",
    "for name in companies_to_analyse :\n",
    "    companies_train_test_data[name] = {}\n",
    "    X_train, X_test, y_train, y_test = train_test_split(companies_processed_data[name]['X'], companies_processed_data[name]['y'], \n",
    "                                                        test_size=0.3, random_state=0, shuffle=False)\n",
    "    companies_train_test_data[name]['X_train'] = X_train\n",
    "    companies_train_test_data[name]['X_test'] = X_test\n",
    "    companies_train_test_data[name]['y_train'] = y_train\n",
    "    companies_train_test_data[name]['y_test'] = y_test"
   ]
  },
  {
   "cell_type": "markdown",
   "metadata": {},
   "source": [
    "# Select a company ticker"
   ]
  },
  {
   "cell_type": "markdown",
   "metadata": {},
   "source": [
    "Select an interesting company to develop an LSTM model."
   ]
  },
  {
   "cell_type": "code",
   "execution_count": 8,
   "metadata": {},
   "outputs": [],
   "source": [
    "selected_name = \"AAPL\""
   ]
  },
  {
   "cell_type": "markdown",
   "metadata": {},
   "source": [
    "## Model training"
   ]
  },
  {
   "cell_type": "markdown",
   "metadata": {},
   "source": [
    "Now that the data is ready, we use keras-tuner to find the most appropriate LSTM model to predict stock value for this company."
   ]
  },
  {
   "cell_type": "code",
   "execution_count": 9,
   "metadata": {},
   "outputs": [],
   "source": [
    "#Random search preparation\n",
    "\n",
    "from kerastuner.tuners import RandomSearch\n",
    "from kerastuner.engine.hyperparameters import HyperParameters\n",
    "from tensorflow.keras.models import Sequential\n",
    "from tensorflow.keras.layers import GRU, Dense, Embedding, Dropout, LSTM\n",
    "import time\n",
    "\n",
    "log_dir = f\"{int(time.time())}\"\n",
    "\n",
    "def build_model(hp):\n",
    "\n",
    "    model = Sequential()\n",
    "    units_chosen = hp.Int(\"units\",min_value = 96, max_value = 160, step = 16)\n",
    "    \n",
    "    model.add(LSTM(units=units_chosen, return_sequences=True, input_shape=(lookback,5)))\n",
    "    \n",
    "    for i in range(hp.Int(\"n_layers\", 0, 3)):\n",
    "        model.add(LSTM(units=units_chosen, return_sequences=True))\n",
    "        \n",
    "    model.add(LSTM(units=units_chosen, return_sequences=False))\n",
    "    model.add(Dense(units=1, activation='linear'))\n",
    "\n",
    "    #Compile\n",
    "    model.compile(optimizer='adam',\n",
    "              loss='mean_squared_error')\n",
    "    \n",
    "    return model"
   ]
  },
  {
   "cell_type": "code",
   "execution_count": 11,
   "metadata": {
    "scrolled": false
   },
   "outputs": [
    {
     "name": "stdout",
     "output_type": "stream",
     "text": [
      "INFO:tensorflow:Reloading Oracle from existing project 1602159209/untitled_project/oracle.json\n",
      "INFO:tensorflow:Reloading Tuner from 1602159209/untitled_project/tuner0.json\n",
      "INFO:tensorflow:Oracle triggered exit\n"
     ]
    },
    {
     "data": {
      "text/plain": [
       "''"
      ]
     },
     "execution_count": 11,
     "metadata": {},
     "output_type": "execute_result"
    }
   ],
   "source": [
    "#Launching random search\n",
    "\n",
    "tuner = RandomSearch(\n",
    "        build_model,\n",
    "        objective = \"val_loss\",\n",
    "        max_trials = 10,\n",
    "        executions_per_trial = 2,\n",
    "        directory = log_dir\n",
    "        )\n",
    "\n",
    "tuner.search(x = companies_train_test_data[selected_name]['X_train'],\n",
    "             y = companies_train_test_data[selected_name]['y_train'],\n",
    "             epochs = 30,\n",
    "             batch_size = 32,\n",
    "             validation_data = (companies_train_test_data[selected_name]['X_test'],\n",
    "                                companies_train_test_data[selected_name]['y_test']))\n",
    "\n",
    ";"
   ]
  },
  {
   "cell_type": "code",
   "execution_count": 12,
   "metadata": {},
   "outputs": [],
   "source": [
    "#Summary of the search : uncomment to get paths explored during the search\n",
    "#tuner.results_summary()"
   ]
  },
  {
   "cell_type": "markdown",
   "metadata": {},
   "source": [
    "# Model choice"
   ]
  },
  {
   "cell_type": "code",
   "execution_count": 13,
   "metadata": {},
   "outputs": [
    {
     "name": "stdout",
     "output_type": "stream",
     "text": [
      "The best hyperparemeters found for AAPL are : \n",
      "{'units': 144, 'n_layers': 0}\n",
      "The summary for the best model : \n",
      "Model: \"sequential\"\n",
      "_________________________________________________________________\n",
      "Layer (type)                 Output Shape              Param #   \n",
      "=================================================================\n",
      "lstm (LSTM)                  (None, 30, 144)           86400     \n",
      "_________________________________________________________________\n",
      "lstm_1 (LSTM)                (None, 144)               166464    \n",
      "_________________________________________________________________\n",
      "dense (Dense)                (None, 1)                 145       \n",
      "=================================================================\n",
      "Total params: 253,009\n",
      "Trainable params: 253,009\n",
      "Non-trainable params: 0\n",
      "_________________________________________________________________\n",
      "WARNING:tensorflow:Unresolved object in checkpoint: (root).optimizer.iter\n",
      "WARNING:tensorflow:Unresolved object in checkpoint: (root).optimizer.beta_1\n",
      "WARNING:tensorflow:Unresolved object in checkpoint: (root).optimizer.beta_2\n",
      "WARNING:tensorflow:Unresolved object in checkpoint: (root).optimizer.decay\n",
      "WARNING:tensorflow:Unresolved object in checkpoint: (root).optimizer.learning_rate\n",
      "WARNING:tensorflow:A checkpoint was restored (e.g. tf.train.Checkpoint.restore or tf.keras.Model.load_weights) but not all checkpointed values were used. See above for specific issues. Use expect_partial() on the load status object, e.g. tf.train.Checkpoint.restore(...).expect_partial(), to silence these warnings, or use assert_consumed() to make the check explicit. See https://www.tensorflow.org/guide/checkpoint#loading_mechanics for details.\n",
      "None\n"
     ]
    }
   ],
   "source": [
    "print(\"The best hyperparemeters found for \" + selected_name + \" are : \")\n",
    "print(tuner.get_best_hyperparameters()[0].values)\n",
    "print(\"The summary for the best model : \")\n",
    "print(tuner.get_best_models()[0].summary())"
   ]
  },
  {
   "cell_type": "code",
   "execution_count": 14,
   "metadata": {},
   "outputs": [],
   "source": [
    "my_stock_prediction_model = tuner.get_best_models()[0]"
   ]
  },
  {
   "cell_type": "markdown",
   "metadata": {},
   "source": [
    "# Model evaluation"
   ]
  },
  {
   "cell_type": "code",
   "execution_count": 15,
   "metadata": {},
   "outputs": [],
   "source": [
    "#Getting test dates\n",
    "number_training_days = len(companies_train_test_data[selected_name]['X_train']) + lookback\n",
    "\n",
    "#Unscale real close price\n",
    "close_price_real = companies_scaler[selected_name].inverse_transform(companies_scaled_data[selected_name][number_training_days:])[:,3]\n",
    "\n",
    "#Unscale predictions\n",
    "scaled_predictions = np.copy(companies_scaled_data[selected_name][number_training_days:])\n",
    "scaled_predictions[:,3] = my_stock_prediction_model.predict(companies_train_test_data[selected_name]['X_test']).reshape((369))\n",
    "close_price_predicted = companies_scaler[selected_name].inverse_transform(scaled_predictions)[:,3]\n",
    "\n",
    "dates_test = companies_dates[selected_name][number_training_days:]"
   ]
  },
  {
   "cell_type": "code",
   "execution_count": 16,
   "metadata": {},
   "outputs": [
    {
     "data": {
      "image/png": "[encoded data removed]",
      "text/plain": [
       "<Figure size 1152x432 with 1 Axes>"
      ]
     },
     "metadata": {
      "needs_background": "light"
     },
     "output_type": "display_data"
    }
   ],
   "source": [
    "#Plot results\n",
    "plt.figure(figsize=(16, 6))\n",
    "plt.plot(dates_test, close_price_real, label='Real close price evolution : ' + selected_name + ' stock')\n",
    "plt.plot(dates_test, close_price_predicted, label='Predicted close price evolution : ' + selected_name  + ' stock')\n",
    "plt.legend()\n",
    "plt.title(\"LSTM Stock predictions compared to reality for \" + selected_name)\n",
    "plt.show()"
   ]
  },
  {
   "cell_type": "markdown",
   "metadata": {},
   "source": [
    "You can try to improve your model by adding as features the information of other actions. As you know, in stock market, most of the information that impacts it is out of the stock market information itself."
   ]
  }
 ],
 "metadata": {
  "kernelspec": {
   "display_name": "Python 3",
   "language": "python",
   "name": "python3"
  },
  "language_info": {
   "codemirror_mode": {
    "name": "ipython",
    "version": 3
   },
   "file_extension": ".py",
   "mimetype": "text/x-python",
   "name": "python",
   "nbconvert_exporter": "python",
   "pygments_lexer": "ipython3",
   "version": "3.8.3"
  }
 },
 "nbformat": 4,
 "nbformat_minor": 2
}
